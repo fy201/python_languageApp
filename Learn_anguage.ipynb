{
 "cells": [
  {
   "cell_type": "code",
   "execution_count": null,
   "id": "f4e99bc4-e5b5-49b8-985b-a60b2bb25c72",
   "metadata": {},
   "outputs": [
    {
     "name": "stdout",
     "output_type": "stream",
     "text": [
      "Welcome to Arabic language learning Flash card quiz\n"
     ]
    },
    {
     "name": "stdin",
     "output_type": "stream",
     "text": [
      "press enter to start the game.... \n"
     ]
    },
    {
     "name": "stdout",
     "output_type": "stream",
     "text": [
      "What is the English translation of 'شكرا'?\n"
     ]
    },
    {
     "name": "stdin",
     "output_type": "stream",
     "text": [
      "Type your answer here::: thank you\n"
     ]
    },
    {
     "name": "stdout",
     "output_type": "stream",
     "text": [
      "your are correct!!\n",
      "\n",
      "What is the English translation of 'جيد'?\n"
     ]
    },
    {
     "name": "stdin",
     "output_type": "stream",
     "text": [
      "Type your answer here::: good\n"
     ]
    },
    {
     "name": "stdout",
     "output_type": "stream",
     "text": [
      "your are correct!!\n",
      "\n",
      "What is the English translation of 'لا'?\n"
     ]
    },
    {
     "name": "stdin",
     "output_type": "stream",
     "text": [
      "Type your answer here::: no\n"
     ]
    },
    {
     "name": "stdout",
     "output_type": "stream",
     "text": [
      "your are correct!!\n",
      "\n",
      "What is the English translation of 'كبير'?\n"
     ]
    }
   ],
   "source": [
    "import random\n",
    "words = [\n",
    "    {\"Arabic\": \"مرحبا\", \"English\": \"Hello\"},\n",
    "    {\"Arabic\": \"شكرا\", \"English\": \"Thank you\"},\n",
    "    {\"Arabic\": \"من فضلك\", \"English\": \"Please\"},\n",
    "    {\"Arabic\": \"نعم\", \"English\": \"Yes\"},\n",
    "    {\"Arabic\": \"لا\", \"English\": \"No\"},\n",
    "    {\"Arabic\": \"كيف حالك\", \"English\": \"How are you\"},\n",
    "    {\"Arabic\": \"أنا\", \"English\": \"I\"},\n",
    "    {\"Arabic\": \"أنت\", \"English\": \"You\"},\n",
    "    {\"Arabic\": \"هو\", \"English\": \"He\"},\n",
    "    {\"Arabic\": \"هي\", \"English\": \"She\"},\n",
    "    {\"Arabic\": \"نحن\", \"English\": \"We\"},\n",
    "    {\"Arabic\": \"هم\", \"English\": \"They\"},\n",
    "    {\"Arabic\": \"ماء\", \"English\": \"Water\"},\n",
    "    {\"Arabic\": \"طعام\", \"English\": \"Food\"},\n",
    "    {\"Arabic\": \"جيد\", \"English\": \"Good\"},\n",
    "    {\"Arabic\": \"سيء\", \"English\": \"Bad\"},\n",
    "    {\"Arabic\": \"كبير\", \"English\": \"Big\"},\n",
    "    {\"Arabic\": \"صغير\", \"English\": \"Small\"},\n",
    "    {\"Arabic\": \"اليوم\", \"English\": \"Today\"},\n",
    "    {\"Arabic\": \"غدا\", \"English\": \"Tomorrow\"},\n",
    "    {\"Arabic\": \"أمس\", \"English\": \"Yesterday\"},\n",
    "    {\"Arabic\": \"صباح\", \"English\": \"Morning\"},\n",
    "    {\"Arabic\": \"مساء\", \"English\": \"Evening\"},\n",
    "    {\"Arabic\": \"ليل\", \"English\": \"Night\"},\n",
    "    {\"Arabic\": \"أين\", \"English\": \"Where\"},\n",
    "    {\"Arabic\": \"متى\", \"English\": \"When\"},\n",
    "    {\"Arabic\": \"لماذا\", \"English\": \"Why\"},\n",
    "    {\"Arabic\": \"كيف\", \"English\": \"How\"},\n",
    "    {\"Arabic\": \"اسم\", \"English\": \"Name\"},\n",
    "    {\"Arabic\": \"مدينة\", \"English\": \"City\"}\n",
    "]\n",
    "def quiz_user(words):\n",
    "    random.shuffle(words)\n",
    "    score = 0\n",
    "    for word in words:\n",
    "        print(f\"What is the English translation of '{word['Arabic']}'?\")\n",
    "        user_answer= input(\"Type your answer here:::\").strip().lower()\n",
    "        correct_answer= word[\"English\"].lower()\n",
    "        if user_answer==correct_answer:\n",
    "            print(\"your are correct!!\\n\")\n",
    "            score += 1\n",
    "        else:\n",
    "            print(f\"You are wrong the correct answer is' {word['English']}'.\\n\")\n",
    "    print (F\"complete, your score is:{score} out of {len(words)}.\\n\")\n",
    "def main():\n",
    "    print(\"Welcome to Arabic language learning Flash card quiz\")\n",
    "    input(\"press enter to start the game....\")\n",
    "    quiz_user(words)\n",
    "\n",
    "\n",
    "if __name__== '__main__':\n",
    "    main()\n",
    " \n"
   ]
  }
 ],
 "metadata": {
  "kernelspec": {
   "display_name": "Python 3 (ipykernel)",
   "language": "python",
   "name": "python3"
  },
  "language_info": {
   "codemirror_mode": {
    "name": "ipython",
    "version": 3
   },
   "file_extension": ".py",
   "mimetype": "text/x-python",
   "name": "python",
   "nbconvert_exporter": "python",
   "pygments_lexer": "ipython3",
   "version": "3.12.4"
  }
 },
 "nbformat": 4,
 "nbformat_minor": 5
}
